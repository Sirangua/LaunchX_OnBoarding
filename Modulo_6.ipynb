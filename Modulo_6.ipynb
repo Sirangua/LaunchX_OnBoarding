{
 "cells": [
  {
   "cell_type": "markdown",
   "metadata": {},
   "source": [
    "\n",
    "# Introducción a las listas \n",
    "## Ejercicio1: Crear y usar listas de Python\n",
    "\n",
    "Comenzarás un proyecto sobre información planetaria creando una lista de planetas. En primer lugar, crea una variable denominada planets. Agrega los ocho planetas (sin Plutón) a la lista. A continuación, muestra el número de planetas."
   ]
  },
  {
   "cell_type": "code",
   "execution_count": 15,
   "metadata": {},
   "outputs": [
    {
     "name": "stdout",
     "output_type": "stream",
     "text": [
      "['Mercury', 'Venus', 'Earth', 'Mars', 'Jupiter', 'Saturn', 'Uranus', 'Neptune']\n"
     ]
    }
   ],
   "source": [
    "planets = ['Mercury', 'Venus', 'Earth', 'Mars', 'Jupiter', 'Saturn', 'Uranus', 'Neptune']\n",
    "print (planets)"
   ]
  },
  {
   "cell_type": "code",
   "execution_count": 16,
   "metadata": {},
   "outputs": [
    {
     "name": "stdout",
     "output_type": "stream",
     "text": [
      "The last planet on the solar system is: Pluto\n"
     ]
    }
   ],
   "source": [
    "planets.append ('Pluto')\n",
    "print ('The last planet on the solar system is: ' + planets[len(planets)-1])"
   ]
  },
  {
   "cell_type": "markdown",
   "metadata": {},
   "source": [
    "## Ejercicio 2: Trabajando con datos de una lista\n"
   ]
  },
  {
   "cell_type": "code",
   "execution_count": 20,
   "metadata": {},
   "outputs": [
    {
     "name": "stdout",
     "output_type": "stream",
     "text": [
      "Venus is the 2 planet on the solar system\n",
      "Planets closer to sun than Venus are: ['Mercury']\n",
      "Planets further to sun than Venus are: ['Earth', 'Mars', 'Jupiter', 'Saturn', 'Uranus', 'Neptune', 'Pluto']\n"
     ]
    }
   ],
   "source": [
    "selected_planet = input('Enter the name of a Planet')\n",
    "planet_index = planets.index(selected_planet)\n",
    "no_planet = planets.index(selected_planet)\n",
    "\n",
    "print (selected_planet + ' is the ' + str (no_planet+1) + ' planet on the solar system')\n",
    "print ('Planets closer to sun than ' + selected_planet + ' are: ' + str (planets [0 : no_planet]))\n",
    "print ('Planets further to sun than ' + selected_planet + ' are: ' + str (planets [no_planet+1 :]))"
   ]
  }
 ],
 "metadata": {
  "interpreter": {
   "hash": "f995bbe2173bbf5016ab0d1796489c7fa0001f3d933bd33921eded37e5a7ef5d"
  },
  "kernelspec": {
   "display_name": "Python 3.10.2 ('env': venv)",
   "language": "python",
   "name": "python3"
  },
  "language_info": {
   "codemirror_mode": {
    "name": "ipython",
    "version": 3
   },
   "file_extension": ".py",
   "mimetype": "text/x-python",
   "name": "python",
   "nbconvert_exporter": "python",
   "pygments_lexer": "ipython3",
   "version": "3.10.2"
  },
  "orig_nbformat": 4
 },
 "nbformat": 4,
 "nbformat_minor": 2
}
