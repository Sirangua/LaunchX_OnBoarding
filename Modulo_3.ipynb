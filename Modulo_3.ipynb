{
 "cells": [
  {
   "cell_type": "markdown",
   "metadata": {},
   "source": [
    "# Lógica booleana"
   ]
  },
  {
   "cell_type": "markdown",
   "metadata": {},
   "source": [
    "## Ejercicio 1\n",
    "### Escribir declaraciones if, else, y elif\n",
    "\n",
    "Para este ejercicio, escribirás una lógica condicional que imprima una advertencia si un asteroide se acerca a la Tierra demasiado rápido. La velocidad del asteroide varía dependiendo de lo cerca que esté del sol, y cualquier velocidad superior a 25 kilómetros por segundo (km/s) merece una advertencia.\n",
    "Un asteroide se acerca, y viaja a una velocidad de 49 km/s.\n"
   ]
  },
  {
   "cell_type": "code",
   "execution_count": 4,
   "metadata": {},
   "outputs": [
    {
     "name": "stdout",
     "output_type": "stream",
     "text": [
      "Advertencia un asteroide se acerca a alta velocidad\n"
     ]
    }
   ],
   "source": [
    "asteroid_speed = 49\n",
    "\n",
    "if asteroid_speed > 25:\n",
    "    print (\"Advertencia un asteroide se acerca a alta velocidad\")\n",
    "else:\n",
    "    print (\"Todo Ok, el mundo está a salvo\")"
   ]
  },
  {
   "cell_type": "markdown",
   "metadata": {},
   "source": [
    "Si un asteroide entra en la atmósfera de la Tierra a una velocidad mayor o igual a 20 km/s, a veces produce un rayo de luz que se puede ver desde la Tierra. Escribe la lógica condicional que usa declaraciones if, else, y elif para alertar a las personas de todo el mundo que deben buscar un asteroide en el cielo. ¡Hay uno que se dirige a la tierra ahora a una velocidad de 19 km/s!"
   ]
  },
  {
   "cell_type": "code",
   "execution_count": 8,
   "metadata": {},
   "outputs": [
    {
     "name": "stdout",
     "output_type": "stream",
     "text": [
      "No hay nada impresionante en el cielo\n"
     ]
    }
   ],
   "source": [
    "asteroid_speed = 19\n",
    "\n",
    "if asteroid_speed > 20:\n",
    "    print(\"Hay algo impresionante en el cielo\")\n",
    "elif asteroid_speed == 20:\n",
    "    print (\"Mira arriba, hay una sorpresa\")\n",
    "else:\n",
    "    print(\"No hay nada impresionante en el cielo\")\n"
   ]
  },
  {
   "cell_type": "markdown",
   "metadata": {},
   "source": [
    "## Ejercicio 2\n",
    "### Uso de operadores and y or\n",
    "\n",
    "En este ejercicio, aprenderás información más matizada sobre cuándo los asteroides representan un peligro para la Tierra, y utilizarás esa información para mejorar nuestro sistema de advertencia. Aquí está la nueva información que necesitas saber:\n",
    "\n",
    "*Los asteroides de menos de 25 metros en su dimensión más grande probablemente se quemarán a medida que entren en la atmósfera de la Tierra.\n",
    "\n",
    "Si una pieza de un asteroide que es más grande que 25 metros pero más pequeña que 1000 metros golpeara la Tierra, causaría mucho daño.\n",
    "También discutimos en el ejercicio anterior que:\n",
    "\n",
    "La velocidad del asteroide varía en función de lo cerca que esté del sol, y cualquier velocidad superior a 25 kilómetros por segundo (km/s) merece una advertencia.\n",
    "Si un asteroide entra en la atmósfera de la Tierra a una velocidad mayor o igual a 20 km/s, a veces produce un rayo de luz que se puede ver desde la Tierra.\n",
    "Usando toda esta información, escribe un programa que emita la advertencia o información correcta a la gente de la Tierra, según la velocidad y el tamaño de un asteroide. Utiliza instrucciones if, else, y elif, así como los operadores and y or"
   ]
  },
  {
   "cell_type": "code",
   "execution_count": 16,
   "metadata": {},
   "outputs": [
    {
     "name": "stdout",
     "output_type": "stream",
     "text": [
      "Mira arriba, hay un asteoide no peligroso pasando\n"
     ]
    }
   ],
   "source": [
    "asteroid_dimension = 10\n",
    "asteroid_speed = 20\n",
    "\n",
    "if asteroid_dimension > 25 or asteroid_speed > 25:\n",
    "    if asteroid_dimension > 25 and asteroid_speed > 25:\n",
    "        print (\"Advertencia Urgente, asteroide muy peligroso detectado\")\n",
    "    else:\n",
    "        print (\"Advertencia, asteroide sospechoso rondanod la tirra\")\n",
    "elif asteroid_speed >= 20 and asteroid_speed <= 25:\n",
    "    print (\"Mira arriba, hay un asteoide no peligroso pasando\")\n",
    "else:\n",
    "    print (\"Nada nuevo por aquí\")"
   ]
  }
 ],
 "metadata": {
  "interpreter": {
   "hash": "0a772c6aa6c9740c9de5c6ae34e9813939a642d41eea9d2b11d68b4d526a8e34"
  },
  "kernelspec": {
   "display_name": "Python 3.10.2 64-bit",
   "language": "python",
   "name": "python3"
  },
  "language_info": {
   "codemirror_mode": {
    "name": "ipython",
    "version": 3
   },
   "file_extension": ".py",
   "mimetype": "text/x-python",
   "name": "python",
   "nbconvert_exporter": "python",
   "pygments_lexer": "ipython3",
   "version": "3.10.2"
  },
  "orig_nbformat": 4
 },
 "nbformat": 4,
 "nbformat_minor": 2
}
