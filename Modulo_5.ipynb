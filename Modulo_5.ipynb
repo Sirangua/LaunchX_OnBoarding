{
 "cells": [
  {
   "cell_type": "markdown",
   "metadata": {},
   "source": [
    "# Operaciones Matemáticas\n",
    "\n",
    "## Ejercicio1 - Utilizar operadores aritméticos\n",
    "\n",
    "Exploremos cómo podemos crear un programa que pueda calcular la distancia entre dos planetas. Comenzaremos usando dos distancias de planetas: Tierra (149.597.870 km) y Júpiter (778.547.200 km)."
   ]
  },
  {
   "cell_type": "code",
   "execution_count": 8,
   "metadata": {},
   "outputs": [
    {
     "name": "stdout",
     "output_type": "stream",
     "text": [
      "Distance = 628949330 Km\n",
      "Distance = 390577533.93 Mi\n"
     ]
    }
   ],
   "source": [
    "earth_distance = 149597870\n",
    "jupiter_distance = 778547200\n",
    "distance = abs(earth_distance-jupiter_distance)\n",
    "print ('Distance = ' + str (distance) + ' Km')\n",
    "print ('Distance = ' + str (distance * 0.621) + ' Mi')"
   ]
  },
  {
   "cell_type": "markdown",
   "metadata": {},
   "source": [
    "## Ejercicio 2: convierte cadenas en números y usa valores absolutos\n",
    "Queremos leer la distancia del sol para dos planetas, y luego mostrar la distancia entre los planetas. Haremos esto usando input para leer los valores, int para convertir a entero y luego abs para convertir el resultado en su valor absoluto."
   ]
  },
  {
   "cell_type": "code",
   "execution_count": 11,
   "metadata": {},
   "outputs": [
    {
     "name": "stdout",
     "output_type": "stream",
     "text": [
      "La distancia entre planeta 1 y 2 es: 4437200000 Km\n",
      "La distancia entre planeta 1 y 2 es: 2755501200.0 Mi\n"
     ]
    }
   ],
   "source": [
    "p_1 = input ('Ingresa la distancia del planeta 1: ')\n",
    "p_2 = input ('Ingresa la distancia del planeta 2: ')\n",
    "\n",
    "planet_1 = int (p_1)\n",
    "planet_2 = int (p_2)\n",
    "\n",
    "distance = abs (planet_1 - planet_2)\n",
    "\n",
    "print ('La distancia entre planeta 1 y 2 es: ' + str (distance) + ' Km')\n",
    "print ('La distancia entre planeta 1 y 2 es: ' + str (distance * 0.621) + ' Mi')\n"
   ]
  }
 ],
 "metadata": {
  "interpreter": {
   "hash": "0a772c6aa6c9740c9de5c6ae34e9813939a642d41eea9d2b11d68b4d526a8e34"
  },
  "kernelspec": {
   "display_name": "Python 3.10.2 64-bit",
   "language": "python",
   "name": "python3"
  },
  "language_info": {
   "codemirror_mode": {
    "name": "ipython",
    "version": 3
   },
   "file_extension": ".py",
   "mimetype": "text/x-python",
   "name": "python",
   "nbconvert_exporter": "python",
   "pygments_lexer": "ipython3",
   "version": "3.10.2"
  },
  "orig_nbformat": 4
 },
 "nbformat": 4,
 "nbformat_minor": 2
}
