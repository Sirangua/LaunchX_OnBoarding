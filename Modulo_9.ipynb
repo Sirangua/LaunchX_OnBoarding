{
 "cells": [
  {
   "cell_type": "markdown",
   "metadata": {},
   "source": [
    "# Funciones\n",
    "## Ejercicio 1: Trabajar con argumentos en funciones\n",
    "En este ejercicio, construirás un informe de combustible que requiere información de varias ubicaciones de combustible en todo el cohete."
   ]
  },
  {
   "cell_type": "code",
   "execution_count": 11,
   "metadata": {},
   "outputs": [
    {
     "name": "stdout",
     "output_type": "stream",
     "text": [
      "The rocket have the 61.666666666666664% fuel\n"
     ]
    }
   ],
   "source": [
    "def average_fuel (thank1, thank2, thank3):\n",
    "    average = (int (thank1) + int (thank2) + int (thank3))/3\n",
    "    return average\n",
    "print ('The rocket have the ' + str (average_fuel (50,75,60)) + '% fuel')\n"
   ]
  },
  {
   "cell_type": "code",
   "execution_count": 12,
   "metadata": {},
   "outputs": [],
   "source": [
    "def report (thank1, thank2, thank3):\n",
    "    print (f\"\"\"Fuel Average: {average_fuel(thank1, thank2, thank3)}%\n",
    "    Thank 1 capacity: {thank1}%\n",
    "    Thank 2 capacity: {thank2}%\n",
    "    Thank 3 capacity: {thank3}%\n",
    "    \"\"\")"
   ]
  },
  {
   "cell_type": "code",
   "execution_count": 13,
   "metadata": {},
   "outputs": [
    {
     "name": "stdout",
     "output_type": "stream",
     "text": [
      "Fuel Average: 83.33333333333333%\n",
      "    Thank 1 capacity: 92%\n",
      "    Thank 2 capacity: 85%\n",
      "    Thank 3 capacity: 73%\n",
      "    \n"
     ]
    }
   ],
   "source": [
    "report (92,85,73)"
   ]
  },
  {
   "cell_type": "markdown",
   "metadata": {},
   "source": [
    "## Ejercicio 2: Trabajo con argumentos de palabra clave\n",
    "En este ejercicio, construirás un informe de cohete que requiere varias piezas de información, como el tiempo hasta el destino, el combustible a la izquierda y el nombre del destino."
   ]
  },
  {
   "cell_type": "code",
   "execution_count": 19,
   "metadata": {},
   "outputs": [
    {
     "name": "stdout",
     "output_type": "stream",
     "text": [
      "\n",
      "    Mission to Mars\n",
      "    Total travel time: 30 minutes\n",
      "    Total fuel left: 188%\n",
      "    \n"
     ]
    }
   ],
   "source": [
    "def mission_report (launching_time, flight_time, destiny, external_tank, intern_tank):\n",
    "    return f\"\"\"\n",
    "    Mission to {destiny}\n",
    "    Total travel time: {launching_time + flight_time} minutes\n",
    "    Total fuel left: {external_tank + intern_tank}%\n",
    "    \"\"\"\n",
    "\n",
    "print (mission_report(10,20,'Mars',98,90))"
   ]
  },
  {
   "cell_type": "code",
   "execution_count": 20,
   "metadata": {},
   "outputs": [
    {
     "name": "stdout",
     "output_type": "stream",
     "text": [
      "\n",
      "    Mission to Mars\n",
      "    Total travel time: 240 minutes\n",
      "    Total fuel left: 500000\n",
      "    \n"
     ]
    }
   ],
   "source": [
    "def mission_report(destiny, *minutes, **fuel_reservoirs):\n",
    "    return f\"\"\"\n",
    "    Mission to {destiny}\n",
    "    Total travel time: {sum(minutes)} minutes\n",
    "    Total fuel left: {sum(fuel_reservoirs.values())}\n",
    "    \"\"\"\n",
    "\n",
    "print(mission_report('Mars', 80, 90, 70, main=300000, external=200000))"
   ]
  },
  {
   "cell_type": "code",
   "execution_count": 21,
   "metadata": {},
   "outputs": [
    {
     "name": "stdout",
     "output_type": "stream",
     "text": [
      "\n",
      "    Mission to Mars\n",
      "    Total travel time: 74 minutes\n",
      "    Total fuel left: 500000\n",
      "    main tank --> 300000 gallons left\n",
      "external tank --> 200000 gallons left\n",
      "\n"
     ]
    }
   ],
   "source": [
    "def mission_report(destiny, *minutes, **fuel_reservoirs):\n",
    "    main_report = f\"\"\"\n",
    "    Mission to {destiny}\n",
    "    Total travel time: {sum(minutes)} minutes\n",
    "    Total fuel left: {sum(fuel_reservoirs.values())}\n",
    "    \"\"\"\n",
    "    for tank_name, gallons in fuel_reservoirs.items():\n",
    "        main_report += f\"{tank_name} tank --> {gallons} gallons left\\n\"\n",
    "    return main_report\n",
    "\n",
    "print(mission_report(\"Mars\", 8, 11, 55, main=300000, external=200000))"
   ]
  }
 ],
 "metadata": {
  "interpreter": {
   "hash": "0a772c6aa6c9740c9de5c6ae34e9813939a642d41eea9d2b11d68b4d526a8e34"
  },
  "kernelspec": {
   "display_name": "Python 3.10.2 64-bit",
   "language": "python",
   "name": "python3"
  },
  "language_info": {
   "codemirror_mode": {
    "name": "ipython",
    "version": 3
   },
   "file_extension": ".py",
   "mimetype": "text/x-python",
   "name": "python",
   "nbconvert_exporter": "python",
   "pygments_lexer": "ipython3",
   "version": "3.10.2"
  },
  "orig_nbformat": 4
 },
 "nbformat": 4,
 "nbformat_minor": 2
}
